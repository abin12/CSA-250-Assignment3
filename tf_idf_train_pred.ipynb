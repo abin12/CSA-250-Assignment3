{
  "nbformat": 4,
  "nbformat_minor": 0,
  "metadata": {
    "colab": {
      "name": "Untitled",
      "provenance": [],
      "collapsed_sections": [],
      "machine_shape": "hm"
    },
    "kernelspec": {
      "name": "python3",
      "display_name": "Python 3"
    }
  },
  "cells": [
    {
      "cell_type": "code",
      "metadata": {
        "id": "xtvtmI1f7TNm",
        "colab_type": "code",
        "colab": {}
      },
      "source": [
        "from platform import python_version\n",
        "import tensorflow as tf\n",
        "from tensorflow import keras\n",
        "import numpy as np\n",
        "from tensorflow.keras.models import Sequential,Model\n",
        "from tensorflow.keras.layers import Dense,Activation,Dropout,Flatten,Concatenate,Input\n",
        "from tensorflow.keras.layers import Conv2D, MaxPooling2D,BatchNormalization\n",
        "from tensorflow.keras.optimizers import Adam\n",
        "from tensorflow.keras.callbacks import Callback,EarlyStopping\n",
        "from tensorflow.keras.datasets import fashion_mnist\n",
        "from tensorflow.keras import backend as K\n",
        "import matplotlib.pyplot as plt\n",
        "from sklearn.metrics import classification_report\n",
        "import random\n",
        "import cv2\n",
        "import os\n",
        "import json\n",
        "import pandas as pd\n",
        "import re"
      ],
      "execution_count": 0,
      "outputs": []
    },
    {
      "cell_type": "code",
      "metadata": {
        "id": "zFp_fU7J7ik9",
        "colab_type": "code",
        "colab": {}
      },
      "source": [
        "path=\"drive/My Drive/Deep Learning/\"\n",
        "testpath=path+\"test.jsonl\"\n",
        "trainpath=path+\"train.jsonl\"\n",
        "\n",
        "\n",
        "\n",
        " "
      ],
      "execution_count": 0,
      "outputs": []
    },
    {
      "cell_type": "code",
      "metadata": {
        "id": "MdFcpikv_8Ch",
        "colab_type": "code",
        "outputId": "ed0a78c9-f061-40d6-dd35-78477ddbbbc2",
        "colab": {
          "base_uri": "https://localhost:8080/",
          "height": 53
        }
      },
      "source": [
        "def load_jsonl(input_path) -> list:\n",
        "    \"\"\"\n",
        "    Read list of objects from a JSON lines file.\n",
        "    \"\"\"\n",
        "    data = []\n",
        "    with open(input_path, 'r', encoding='utf-8') as f:\n",
        "        for line in f:\n",
        "            data.append(json.loads(line.rstrip('\\n|\\r')))\n",
        "    print('Loaded {} records from {}'.format(len(data), input_path))\n",
        "    return data\n",
        "a=load_jsonl(testpath)\n",
        "b=load_jsonl(trainpath)\n"
      ],
      "execution_count": 3,
      "outputs": [
        {
          "output_type": "stream",
          "text": [
            "Loaded 10000 records from drive/My Drive/Deep Learning/test.jsonl\n",
            "Loaded 550152 records from drive/My Drive/Deep Learning/train.jsonl\n"
          ],
          "name": "stdout"
        }
      ]
    },
    {
      "cell_type": "code",
      "metadata": {
        "id": "Ikeo4lFiAHgq",
        "colab_type": "code",
        "colab": {}
      },
      "source": [
        "train_s1=[d['sentence1'] for d in b]\n",
        "train_s2=[d['sentence2'] for d in b]\n",
        "train_label=[d['gold_label'] for d in b]\n",
        "test_s1=[d['sentence1'] for d in a]\n",
        "test_s2=[d['sentence2'] for d in a]\n",
        "test_label=[d['gold_label'] for d in a]"
      ],
      "execution_count": 0,
      "outputs": []
    },
    {
      "cell_type": "code",
      "metadata": {
        "id": "9crDs3nrxhS6",
        "colab_type": "code",
        "colab": {
          "base_uri": "https://localhost:8080/",
          "height": 298
        },
        "outputId": "1702dbfe-79d6-453e-8e55-fde0f40ab6b2"
      },
      "source": [
        ""
      ],
      "execution_count": 22,
      "outputs": [
        {
          "output_type": "error",
          "ename": "KeyError",
          "evalue": "ignored",
          "traceback": [
            "\u001b[0;31m---------------------------------------------------------------------------\u001b[0m",
            "\u001b[0;31mKeyError\u001b[0m                                  Traceback (most recent call last)",
            "\u001b[0;32m<ipython-input-22-3dfbedc416e5>\u001b[0m in \u001b[0;36m<module>\u001b[0;34m()\u001b[0m\n\u001b[1;32m      6\u001b[0m }\n\u001b[1;32m      7\u001b[0m \u001b[0mtrain_labno\u001b[0m\u001b[0;34m=\u001b[0m\u001b[0;34m[\u001b[0m\u001b[0;34m]\u001b[0m\u001b[0;34m\u001b[0m\u001b[0;34m\u001b[0m\u001b[0m\n\u001b[0;32m----> 8\u001b[0;31m \u001b[0mtrain_labno\u001b[0m\u001b[0;34m=\u001b[0m\u001b[0;34m[\u001b[0m\u001b[0mlabdict\u001b[0m\u001b[0;34m[\u001b[0m\u001b[0md\u001b[0m\u001b[0;34m]\u001b[0m \u001b[0;32mfor\u001b[0m \u001b[0md\u001b[0m \u001b[0;32min\u001b[0m \u001b[0mtrain_label\u001b[0m\u001b[0;34m]\u001b[0m\u001b[0;34m\u001b[0m\u001b[0;34m\u001b[0m\u001b[0m\n\u001b[0m",
            "\u001b[0;32m<ipython-input-22-3dfbedc416e5>\u001b[0m in \u001b[0;36m<listcomp>\u001b[0;34m(.0)\u001b[0m\n\u001b[1;32m      6\u001b[0m }\n\u001b[1;32m      7\u001b[0m \u001b[0mtrain_labno\u001b[0m\u001b[0;34m=\u001b[0m\u001b[0;34m[\u001b[0m\u001b[0;34m]\u001b[0m\u001b[0;34m\u001b[0m\u001b[0;34m\u001b[0m\u001b[0m\n\u001b[0;32m----> 8\u001b[0;31m \u001b[0mtrain_labno\u001b[0m\u001b[0;34m=\u001b[0m\u001b[0;34m[\u001b[0m\u001b[0mlabdict\u001b[0m\u001b[0;34m[\u001b[0m\u001b[0md\u001b[0m\u001b[0;34m]\u001b[0m \u001b[0;32mfor\u001b[0m \u001b[0md\u001b[0m \u001b[0;32min\u001b[0m \u001b[0mtrain_label\u001b[0m\u001b[0;34m]\u001b[0m\u001b[0;34m\u001b[0m\u001b[0;34m\u001b[0m\u001b[0m\n\u001b[0m",
            "\u001b[0;31mKeyError\u001b[0m: '-'"
          ]
        }
      ]
    },
    {
      "cell_type": "code",
      "metadata": {
        "id": "hdDJkEv-zaJl",
        "colab_type": "code",
        "colab": {}
      },
      "source": [
        "df_train = pd.DataFrame(list(zip(train_s1, train_s2,train_label)), \n",
        "               columns =['Sentence1', 'Sentence2','Label']) \n",
        "df_test = pd.DataFrame(list(zip(test_s1, test_s2,test_label)), \n",
        "               columns =['Sentence1', 'Sentence2','Label']) \n",
        "\n",
        "df_train=df_train[df_train.Label != '-']\n",
        "df_train.reset_index(drop=True,inplace=True)\n",
        "df_test.reset_index(drop=True,inplace=True)\n"
      ],
      "execution_count": 0,
      "outputs": []
    },
    {
      "cell_type": "code",
      "metadata": {
        "id": "Y-NEkJ_F-n_r",
        "colab_type": "code",
        "colab": {}
      },
      "source": [
        "\n",
        "df_test['Sentence1']=df_test['Sentence1'].str.lower()\n",
        "df_test['Sentence2']=df_test['Sentence2'].str.lower()\n",
        "df_train['Sentence1']=df_train['Sentence1'].str.lower()\n",
        "df_train['Sentence2']=df_train['Sentence2'].str.lower()\n",
        "\n"
      ],
      "execution_count": 0,
      "outputs": []
    },
    {
      "cell_type": "code",
      "metadata": {
        "id": "-ALgo2ls_arj",
        "colab_type": "code",
        "colab": {}
      },
      "source": [
        "df_test['s1'] = df_test['Sentence1'].map(lambda x: re.sub(r'\\W+', '', x))\n",
        "df_test['s2'] = df_test['Sentence2'].map(lambda x: re.sub(r'\\W+', '', x))\n",
        "df_train['s1'] = df_train['Sentence1'].map(lambda x: re.sub(r'\\W+', '', x))\n",
        "df_train['s2'] = df_train['Sentence2'].map(lambda x: re.sub(r'\\W+', '', x))\n",
        "df_test['s1'] = df_test['Sentence1'].str.replace('.', '')\n",
        "df_test['s2'] = df_test['Sentence2'].str.replace('.', '')\n",
        "df_train['s1'] = df_train['Sentence1'].str.replace('.', '')\n",
        "df_train['s2'] = df_train['Sentence2'].str.replace('.', '')\n"
      ],
      "execution_count": 0,
      "outputs": []
    },
    {
      "cell_type": "code",
      "metadata": {
        "id": "D1TFwxxjAdMo",
        "colab_type": "code",
        "colab": {}
      },
      "source": [
        "finaltrain=[]\n",
        "finaltest=[]\n",
        "finaltrain=(df_train['s1'].tolist())\n",
        "finaltrain.extend(df_train['s2'].tolist())\n",
        "finaltest=(df_test['s1'].tolist())\n",
        "finaltest.extend(df_test['s2'].tolist())\n",
        "finaltrain.extend(finaltest);\n",
        "\n",
        "\n"
      ],
      "execution_count": 0,
      "outputs": []
    },
    {
      "cell_type": "code",
      "metadata": {
        "id": "_quU7IjOEori",
        "colab_type": "code",
        "colab": {}
      },
      "source": [
        "from sklearn.feature_extraction.text import TfidfVectorizer\n",
        "vectorizer = TfidfVectorizer(stop_words='english')\n",
        "vectors_train = vectorizer.fit_transform(finaltrain)\n",
        "\n",
        "# dense = vectors.todense()\n",
        "# denselist = dense.tolist()\n",
        "# df = pd.DataFrame(denselist, columns=feature_names)\n"
      ],
      "execution_count": 0,
      "outputs": []
    },
    {
      "cell_type": "code",
      "metadata": {
        "id": "HQvF6B-bI168",
        "colab_type": "code",
        "colab": {}
      },
      "source": [
        "vs1=vectors_train[:len(df_train['s1'])]\n",
        "vs2=vectors_train[len(df_train['s1']):2*len(df_train['s1'])]\n",
        "testvs1=vectors_train[2*len(df_train['s1']):2*len(df_train['s1'])+10000]\n",
        "testvs2=vectors_train[2*len(df_train['s1'])+10000:]\n"
      ],
      "execution_count": 0,
      "outputs": []
    },
    {
      "cell_type": "code",
      "metadata": {
        "id": "3c6fCVWkU18a",
        "colab_type": "code",
        "colab": {
          "base_uri": "https://localhost:8080/",
          "height": 35
        },
        "outputId": "3a0515bd-014f-456f-a811-6f554f5d129e"
      },
      "source": [
        "testvs2.shape"
      ],
      "execution_count": 81,
      "outputs": [
        {
          "output_type": "execute_result",
          "data": {
            "text/plain": [
              "(10000, 33241)"
            ]
          },
          "metadata": {
            "tags": []
          },
          "execution_count": 81
        }
      ]
    },
    {
      "cell_type": "code",
      "metadata": {
        "id": "7kc9PQUVKWQA",
        "colab_type": "code",
        "colab": {}
      },
      "source": [
        "from scipy.sparse import coo_matrix, hstack\n",
        "train_X=hstack([vs1,vs2])\n",
        "test_X=hstack([testvs1,testvs2])\n",
        "# traini_labno=np.array(train_labno)"
      ],
      "execution_count": 0,
      "outputs": []
    },
    {
      "cell_type": "code",
      "metadata": {
        "id": "lOjOreKtIVEN",
        "colab_type": "code",
        "colab": {}
      },
      "source": [
        "from sklearn.linear_model import LogisticRegression\n",
        "clf = LogisticRegression(max_iter=1000).fit(train_X, train_labno)"
      ],
      "execution_count": 0,
      "outputs": []
    },
    {
      "cell_type": "code",
      "metadata": {
        "id": "qqoUyXjJLwGs",
        "colab_type": "code",
        "colab": {}
      },
      "source": [
        "labdict={\n",
        "    'entailment':0,\n",
        "    'neutral':1,\n",
        "    'contradiction':2\n",
        "    '-':3\n",
        "}\n",
        "train_labno=[]\n",
        "for d in df_train['Label']:\n",
        "  train_labno.append(labdict[d])\n",
        "\n"
      ],
      "execution_count": 0,
      "outputs": []
    },
    {
      "cell_type": "code",
      "metadata": {
        "id": "1Q2B-WAiRZkx",
        "colab_type": "code",
        "colab": {}
      },
      "source": [
        "labdict={\n",
        "    'entailment':0,\n",
        "    'neutral':1,\n",
        "    'contradiction':2,\n",
        "    '-':3\n",
        "}\n",
        "test_labno=[]\n",
        "for d in df_test['Label']:\n",
        "  test_labno.append(labdict[d])\n"
      ],
      "execution_count": 0,
      "outputs": []
    },
    {
      "cell_type": "code",
      "metadata": {
        "id": "TwduG2K9UC0e",
        "colab_type": "code",
        "colab": {}
      },
      "source": [
        "pred=0\n",
        "arr=clf.predict(test_X)\n",
        "for i in range(10000):\n",
        "  if arr[i]==test_labno[i]:\n",
        "    pred+=1\n",
        "  "
      ],
      "execution_count": 0,
      "outputs": []
    },
    {
      "cell_type": "code",
      "metadata": {
        "id": "rudUMHYLYL4I",
        "colab_type": "code",
        "colab": {}
      },
      "source": [
        "revlabdict={\n",
        "    0 : 'entailment',\n",
        "    1 :'neutral',\n",
        "    2 :'contradiction',\n",
        "    3 : '-'\n",
        "}"
      ],
      "execution_count": 0,
      "outputs": []
    },
    {
      "cell_type": "code",
      "metadata": {
        "id": "yoiv2Ah1ZcOH",
        "colab_type": "code",
        "colab": {}
      },
      "source": [
        "f=open('tfidf_op.txt','w')\n",
        "for i in range(1000):\n",
        "  f.write(revlabdict[arr[i]])\n",
        "  f.write('\\n')\n",
        "f.close()"
      ],
      "execution_count": 0,
      "outputs": []
    }
  ]
}
